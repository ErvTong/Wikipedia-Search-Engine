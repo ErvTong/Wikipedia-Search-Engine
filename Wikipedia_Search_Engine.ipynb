{
 "cells": [
  {
   "cell_type": "markdown",
   "metadata": {},
   "source": [
    "# SEARCH ENGINE AND PREDICTIONS"
   ]
  },
  {
   "cell_type": "code",
   "execution_count": 1,
   "metadata": {
    "collapsed": true
   },
   "outputs": [],
   "source": [
    "import pandas as pd\n",
    "import numpy as np\n",
    "import pymongo\n",
    "import seaborn as sns\n",
    "import matplotlib.pyplot as plt\n",
    "import plotly.plotly as py\n",
    "import cufflinks as cf\n",
    "import matplotlib.pyplot as plt\n",
    "import seaborn as sns\n",
    "import mglearn\n",
    "%matplotlib inline\n",
    "import collect_data\n",
    "\n",
    "from sklearn.ensemble import RandomForestClassifier\n",
    "from sklearn.linear_model import LogisticRegression\n",
    "from sklearn.model_selection import GridSearchCV, StratifiedShuffleSplit\n",
    "from sklearn.neighbors import KNeighborsClassifier \n",
    "from sklearn.preprocessing import LabelEncoder\n",
    "from sklearn.decomposition import TruncatedSVD\n",
    "from sklearn.feature_extraction.text import TfidfVectorizer\n",
    "from sklearn.ensemble import BaggingClassifier\n",
    "from redis import Redis\n",
    "from sklearn.externals import joblib\n"
   ]
  },
  {
   "cell_type": "code",
   "execution_count": 2,
   "metadata": {
    "collapsed": true
   },
   "outputs": [],
   "source": [
    "db=pymongo.MongoClient(host='54.187.166.119')\n",
    "\n",
    "my_wiki_collection= db.my_wiki_database.my_wiki_collection\n",
    "my_wiki_clean_collection= db.my_wiki_database.my_wiki_clean_collection"
   ]
  },
  {
   "cell_type": "code",
   "execution_count": 3,
   "metadata": {
    "collapsed": true
   },
   "outputs": [],
   "source": [
    "search_df=collect_data.get_clean_df()"
   ]
  },
  {
   "cell_type": "code",
   "execution_count": 4,
   "metadata": {},
   "outputs": [
    {
     "data": {
      "text/html": [
       "<div>\n",
       "<style>\n",
       "    .dataframe thead tr:only-child th {\n",
       "        text-align: right;\n",
       "    }\n",
       "\n",
       "    .dataframe thead th {\n",
       "        text-align: left;\n",
       "    }\n",
       "\n",
       "    .dataframe tbody tr th {\n",
       "        vertical-align: top;\n",
       "    }\n",
       "</style>\n",
       "<table border=\"1\" class=\"dataframe\">\n",
       "  <thead>\n",
       "    <tr style=\"text-align: right;\">\n",
       "      <th></th>\n",
       "      <th>Category</th>\n",
       "      <th>Content</th>\n",
       "      <th>Pageid</th>\n",
       "      <th>Subcategory</th>\n",
       "      <th>Title</th>\n",
       "    </tr>\n",
       "  </thead>\n",
       "  <tbody>\n",
       "    <tr>\n",
       "      <th>0</th>\n",
       "      <td>machine learning</td>\n",
       "      <td>Machine learning is the subfield of computer s...</td>\n",
       "      <td>233488</td>\n",
       "      <td>machine learning</td>\n",
       "      <td>Machine learning</td>\n",
       "    </tr>\n",
       "    <tr>\n",
       "      <th>1</th>\n",
       "      <td>machine learning</td>\n",
       "      <td>The following outline is provided as an overvi...</td>\n",
       "      <td>53587467</td>\n",
       "      <td>machine learning</td>\n",
       "      <td>Outline of machine learning</td>\n",
       "    </tr>\n",
       "    <tr>\n",
       "      <th>2</th>\n",
       "      <td>machine learning</td>\n",
       "      <td>In Machine Learning, if a statistical model is...</td>\n",
       "      <td>53198248</td>\n",
       "      <td>machine learning</td>\n",
       "      <td>Singular statistical model</td>\n",
       "    </tr>\n",
       "    <tr>\n",
       "      <th>3</th>\n",
       "      <td>machine learning</td>\n",
       "      <td>The accuracy paradox for predictive analytics ...</td>\n",
       "      <td>3771060</td>\n",
       "      <td>machine learning</td>\n",
       "      <td>Accuracy paradox</td>\n",
       "    </tr>\n",
       "    <tr>\n",
       "      <th>4</th>\n",
       "      <td>machine learning</td>\n",
       "      <td>Action model learning (sometimes abbreviated a...</td>\n",
       "      <td>43808044</td>\n",
       "      <td>machine learning</td>\n",
       "      <td>Action model learning</td>\n",
       "    </tr>\n",
       "  </tbody>\n",
       "</table>\n",
       "</div>"
      ],
      "text/plain": [
       "           Category                                            Content  \\\n",
       "0  machine learning  Machine learning is the subfield of computer s...   \n",
       "1  machine learning  The following outline is provided as an overvi...   \n",
       "2  machine learning  In Machine Learning, if a statistical model is...   \n",
       "3  machine learning  The accuracy paradox for predictive analytics ...   \n",
       "4  machine learning  Action model learning (sometimes abbreviated a...   \n",
       "\n",
       "     Pageid       Subcategory                        Title  \n",
       "0    233488  machine learning             Machine learning  \n",
       "1  53587467  machine learning  Outline of machine learning  \n",
       "2  53198248  machine learning   Singular statistical model  \n",
       "3   3771060  machine learning             Accuracy paradox  \n",
       "4  43808044  machine learning        Action model learning  "
      ]
     },
     "execution_count": 4,
     "metadata": {},
     "output_type": "execute_result"
    }
   ],
   "source": [
    "search_df.head()"
   ]
  },
  {
   "cell_type": "code",
   "execution_count": 5,
   "metadata": {
    "collapsed": true
   },
   "outputs": [],
   "source": [
    "le=LabelEncoder()\n",
    "target=le.fit_transform(search_df['Category'])"
   ]
  },
  {
   "cell_type": "code",
   "execution_count": 6,
   "metadata": {
    "collapsed": true
   },
   "outputs": [],
   "source": [
    "tfidf_vectorizer= TfidfVectorizer(min_df=1, stop_words='english')\n",
    "document_term_matrix= tfidf_vectorizer.fit_transform(search_df['Content'])\n",
    "\n",
    "SVD= TruncatedSVD(200)\n",
    "lsa= SVD.fit_transform(document_term_matrix)"
   ]
  },
  {
   "cell_type": "markdown",
   "metadata": {},
   "source": [
    "# Wikipedia Categories"
   ]
  },
  {
   "cell_type": "code",
   "execution_count": 7,
   "metadata": {},
   "outputs": [
    {
     "data": {
      "text/plain": [
       "technology               2151\n",
       "machine learning         1256\n",
       "linear algebra           1077\n",
       "sleep                     990\n",
       "memory                    763\n",
       "business intelligence     759\n",
       "emotions                  649\n",
       "diets                     631\n",
       "Name: Category, dtype: int64"
      ]
     },
     "execution_count": 7,
     "metadata": {},
     "output_type": "execute_result"
    }
   ],
   "source": [
    "search_df['Category'].value_counts()"
   ]
  },
  {
   "cell_type": "markdown",
   "metadata": {},
   "source": [
    "# Wikipedia Article Recommender"
   ]
  },
  {
   "cell_type": "code",
   "execution_count": 8,
   "metadata": {},
   "outputs": [
    {
     "name": "stdout",
     "output_type": "stream",
     "text": [
      "Category                                                   diets\n",
      "Content        Low-carbohydrate diets or low-carb diets are d...\n",
      "Pageid                                                    459560\n",
      "Subcategory                               Low-carbohydrate diets\n",
      "Title                                      Low-carbohydrate diet\n",
      "Name: 2447, dtype: object\n",
      "Category                                                   diets\n",
      "Content        Low-carbohydrate diets or low-carb diets are d...\n",
      "Pageid                                                    459560\n",
      "Subcategory                                            Fad diets\n",
      "Title                                      Low-carbohydrate diet\n",
      "Name: 2322, dtype: object\n",
      "Category                                                   diets\n",
      "Content        Low-carbohydrate diets or low-carb diets are d...\n",
      "Pageid                                                    459560\n",
      "Subcategory                                                diets\n",
      "Title                                      Low-carbohydrate diet\n",
      "Name: 2102, dtype: object\n",
      "Category                                                   diets\n",
      "Content        The Atkins diet, also known as the Atkins nutr...\n",
      "Pageid                                                     84121\n",
      "Subcategory                                            Fad diets\n",
      "Title                                                Atkins diet\n",
      "Name: 2309, dtype: object\n",
      "Category                                                   diets\n",
      "Content        The Atkins diet, also known as the Atkins nutr...\n",
      "Pageid                                                     84121\n",
      "Subcategory                               Low-carbohydrate diets\n",
      "Title                                                Atkins diet\n",
      "Name: 2448, dtype: object\n"
     ]
    },
    {
     "name": "stderr",
     "output_type": "stream",
     "text": [
      "C:\\Users\\Papasmurfff\\Anaconda3\\lib\\site-packages\\ipykernel\\__main__.py:10: DeprecationWarning:\n",
      "\n",
      "\n",
      ".ix is deprecated. Please use\n",
      ".loc for label based indexing or\n",
      ".iloc for positional indexing\n",
      "\n",
      "See the documentation here:\n",
      "http://pandas.pydata.org/pandas-docs/stable/indexing.html#deprecate_ix\n",
      "\n"
     ]
    }
   ],
   "source": [
    "# insert search term below\n",
    "search_term_vec = tfidf_vectorizer.transform(['ketones'])\n",
    "search_term_lsa = SVD.transform(search_term_vec)\n",
    "\n",
    "cosine_similarities = lsa.dot(search_term_lsa.T).ravel()\n",
    "\n",
    "results= cosine_similarities.argsort()[:-6:-1]\n",
    "\n",
    "for result in results:\n",
    "    print(search_df.ix[result])"
   ]
  },
  {
   "cell_type": "markdown",
   "metadata": {},
   "source": [
    "# RandomForest"
   ]
  },
  {
   "cell_type": "code",
   "execution_count": 24,
   "metadata": {
    "collapsed": true
   },
   "outputs": [],
   "source": [
    "from sklearn.model_selection import StratifiedKFold"
   ]
  },
  {
   "cell_type": "code",
   "execution_count": null,
   "metadata": {
    "collapsed": true
   },
   "outputs": [],
   "source": [
    "params= {'n_estimators': [200,250,300],\n",
    "        }\n",
    "\n",
    "sss=StratifiedShuffleSplit(train_size=.7, test_size=.25, n_splits=5)"
   ]
  },
  {
   "cell_type": "code",
   "execution_count": 60,
   "metadata": {
    "collapsed": true
   },
   "outputs": [],
   "source": [
    "gs_rf = GridSearchCV(RandomForestClassifier(), param_grid=params, cv=sss, n_jobs=-1)\n",
    "\n",
    "gs_rf.fit(lsa, target)"
   ]
  },
  {
   "cell_type": "code",
   "execution_count": 146,
   "metadata": {},
   "outputs": [
    {
     "data": {
      "text/plain": [
       "['gs_rf']"
      ]
     },
     "execution_count": 146,
     "metadata": {},
     "output_type": "execute_result"
    }
   ],
   "source": [
    "joblib.dump(gs_rf , 'gs_rf')"
   ]
  },
  {
   "cell_type": "code",
   "execution_count": 62,
   "metadata": {},
   "outputs": [
    {
     "data": {
      "text/plain": [
       "RandomForestClassifier(bootstrap=True, class_weight=None, criterion='gini',\n",
       "            max_depth=None, max_features='auto', max_leaf_nodes=None,\n",
       "            min_impurity_split=1e-07, min_samples_leaf=1,\n",
       "            min_samples_split=2, min_weight_fraction_leaf=0.0,\n",
       "            n_estimators=300, n_jobs=1, oob_score=False, random_state=None,\n",
       "            verbose=0, warm_start=False)"
      ]
     },
     "execution_count": 62,
     "metadata": {},
     "output_type": "execute_result"
    }
   ],
   "source": [
    "gs_rf.best_estimator_"
   ]
  },
  {
   "cell_type": "code",
   "execution_count": 65,
   "metadata": {},
   "outputs": [
    {
     "data": {
      "text/html": [
       "<div>\n",
       "<table border=\"1\" class=\"dataframe\">\n",
       "  <thead>\n",
       "    <tr style=\"text-align: right;\">\n",
       "      <th></th>\n",
       "      <th>mean_fit_time</th>\n",
       "      <th>mean_score_time</th>\n",
       "      <th>mean_test_score</th>\n",
       "      <th>mean_train_score</th>\n",
       "      <th>param_n_estimators</th>\n",
       "      <th>params</th>\n",
       "      <th>rank_test_score</th>\n",
       "      <th>split0_test_score</th>\n",
       "      <th>split0_train_score</th>\n",
       "      <th>split1_test_score</th>\n",
       "      <th>...</th>\n",
       "      <th>split2_test_score</th>\n",
       "      <th>split2_train_score</th>\n",
       "      <th>split3_test_score</th>\n",
       "      <th>split3_train_score</th>\n",
       "      <th>split4_test_score</th>\n",
       "      <th>split4_train_score</th>\n",
       "      <th>std_fit_time</th>\n",
       "      <th>std_score_time</th>\n",
       "      <th>std_test_score</th>\n",
       "      <th>std_train_score</th>\n",
       "    </tr>\n",
       "  </thead>\n",
       "  <tbody>\n",
       "    <tr>\n",
       "      <th>2</th>\n",
       "      <td>31.386255</td>\n",
       "      <td>0.219183</td>\n",
       "      <td>0.893765</td>\n",
       "      <td>0.993026</td>\n",
       "      <td>300</td>\n",
       "      <td>{'n_estimators': 300}</td>\n",
       "      <td>1</td>\n",
       "      <td>0.888835</td>\n",
       "      <td>0.992232</td>\n",
       "      <td>0.892218</td>\n",
       "      <td>...</td>\n",
       "      <td>0.896085</td>\n",
       "      <td>0.993268</td>\n",
       "      <td>0.886419</td>\n",
       "      <td>0.993786</td>\n",
       "      <td>0.905268</td>\n",
       "      <td>0.992922</td>\n",
       "      <td>2.713374</td>\n",
       "      <td>0.041394</td>\n",
       "      <td>0.006609</td>\n",
       "      <td>0.000507</td>\n",
       "    </tr>\n",
       "  </tbody>\n",
       "</table>\n",
       "<p>1 rows × 21 columns</p>\n",
       "</div>"
      ],
      "text/plain": [
       "   mean_fit_time  mean_score_time  mean_test_score  mean_train_score  \\\n",
       "2      31.386255         0.219183         0.893765          0.993026   \n",
       "\n",
       "  param_n_estimators                 params  rank_test_score  \\\n",
       "2                300  {'n_estimators': 300}                1   \n",
       "\n",
       "   split0_test_score  split0_train_score  split1_test_score       ...         \\\n",
       "2           0.888835            0.992232           0.892218       ...          \n",
       "\n",
       "   split2_test_score  split2_train_score  split3_test_score  \\\n",
       "2           0.896085            0.993268           0.886419   \n",
       "\n",
       "   split3_train_score  split4_test_score  split4_train_score  std_fit_time  \\\n",
       "2            0.993786           0.905268            0.992922      2.713374   \n",
       "\n",
       "   std_score_time  std_test_score  std_train_score  \n",
       "2        0.041394        0.006609         0.000507  \n",
       "\n",
       "[1 rows x 21 columns]"
      ]
     },
     "execution_count": 65,
     "metadata": {},
     "output_type": "execute_result"
    }
   ],
   "source": [
    "pd.DataFrame(gs_rf.cv_results_)[pd.DataFrame(gs_rf.cv_results_)['rank_test_score']==1]"
   ]
  },
  {
   "cell_type": "code",
   "execution_count": null,
   "metadata": {
    "collapsed": true
   },
   "outputs": [],
   "source": [
    "rf_test_score=pd.DataFrame(gs_rf.cv_results_)[pd.DataFrame(gs_rf.cv_results_)['rank_test_score']==1]['mean_test_score'][2]\n",
    "rf_test_score"
   ]
  },
  {
   "cell_type": "markdown",
   "metadata": {},
   "source": [
    "# Bagging Trees"
   ]
  },
  {
   "cell_type": "code",
   "execution_count": 52,
   "metadata": {
    "collapsed": true
   },
   "outputs": [],
   "source": [
    "params={'n_estimators':[100,200,300]}"
   ]
  },
  {
   "cell_type": "code",
   "execution_count": 53,
   "metadata": {
    "collapsed": true
   },
   "outputs": [],
   "source": [
    "gs_bt=GridSearchCV(BaggingClassifier(RandomForestClassifier(),n_jobs=-1), param_grid=params, cv=sss, n_jobs=1)"
   ]
  },
  {
   "cell_type": "code",
   "execution_count": 54,
   "metadata": {},
   "outputs": [
    {
     "data": {
      "text/plain": [
       "GridSearchCV(cv=StratifiedShuffleSplit(n_splits=5, random_state=None, test_size=0.25,\n",
       "            train_size=0.7),\n",
       "       error_score='raise',\n",
       "       estimator=BaggingClassifier(base_estimator=RandomForestClassifier(bootstrap=True, class_weight=None, criterion='gini',\n",
       "            max_depth=None, max_features='auto', max_leaf_nodes=None,\n",
       "            min_impurity_split=1e-07, min_samples_leaf=1,\n",
       "            min_samples_split=2, min_weight_fraction_..._estimators=10, n_jobs=-1, oob_score=False,\n",
       "         random_state=None, verbose=0, warm_start=False),\n",
       "       fit_params={}, iid=True, n_jobs=1,\n",
       "       param_grid={'n_estimators': [100, 200, 300]},\n",
       "       pre_dispatch='2*n_jobs', refit=True, return_train_score=True,\n",
       "       scoring=None, verbose=0)"
      ]
     },
     "execution_count": 54,
     "metadata": {},
     "output_type": "execute_result"
    }
   ],
   "source": [
    "gs_bt.fit(lsa, target)"
   ]
  },
  {
   "cell_type": "code",
   "execution_count": 147,
   "metadata": {},
   "outputs": [
    {
     "data": {
      "text/plain": [
       "['gs_bt']"
      ]
     },
     "execution_count": 147,
     "metadata": {},
     "output_type": "execute_result"
    }
   ],
   "source": [
    "joblib.dump(gs_bt , 'gs_bt')"
   ]
  },
  {
   "cell_type": "code",
   "execution_count": 55,
   "metadata": {},
   "outputs": [
    {
     "data": {
      "text/html": [
       "<div>\n",
       "<table border=\"1\" class=\"dataframe\">\n",
       "  <thead>\n",
       "    <tr style=\"text-align: right;\">\n",
       "      <th></th>\n",
       "      <th>mean_fit_time</th>\n",
       "      <th>mean_score_time</th>\n",
       "      <th>mean_test_score</th>\n",
       "      <th>mean_train_score</th>\n",
       "      <th>param_n_estimators</th>\n",
       "      <th>params</th>\n",
       "      <th>rank_test_score</th>\n",
       "      <th>split0_test_score</th>\n",
       "      <th>split0_train_score</th>\n",
       "      <th>split1_test_score</th>\n",
       "      <th>...</th>\n",
       "      <th>split2_test_score</th>\n",
       "      <th>split2_train_score</th>\n",
       "      <th>split3_test_score</th>\n",
       "      <th>split3_train_score</th>\n",
       "      <th>split4_test_score</th>\n",
       "      <th>split4_train_score</th>\n",
       "      <th>std_fit_time</th>\n",
       "      <th>std_score_time</th>\n",
       "      <th>std_test_score</th>\n",
       "      <th>std_train_score</th>\n",
       "    </tr>\n",
       "  </thead>\n",
       "  <tbody>\n",
       "    <tr>\n",
       "      <th>0</th>\n",
       "      <td>19.487460</td>\n",
       "      <td>2.144519</td>\n",
       "      <td>0.882649</td>\n",
       "      <td>0.989988</td>\n",
       "      <td>100</td>\n",
       "      <td>{'n_estimators': 100}</td>\n",
       "      <td>1</td>\n",
       "      <td>0.889802</td>\n",
       "      <td>0.989297</td>\n",
       "      <td>0.870469</td>\n",
       "      <td>...</td>\n",
       "      <td>0.880135</td>\n",
       "      <td>0.989988</td>\n",
       "      <td>0.888352</td>\n",
       "      <td>0.990506</td>\n",
       "      <td>0.884485</td>\n",
       "      <td>0.990333</td>\n",
       "      <td>0.625474</td>\n",
       "      <td>0.080938</td>\n",
       "      <td>0.006953</td>\n",
       "      <td>0.000423</td>\n",
       "    </tr>\n",
       "    <tr>\n",
       "      <th>1</th>\n",
       "      <td>42.841052</td>\n",
       "      <td>3.625085</td>\n",
       "      <td>0.882069</td>\n",
       "      <td>0.990022</td>\n",
       "      <td>200</td>\n",
       "      <td>{'n_estimators': 200}</td>\n",
       "      <td>3</td>\n",
       "      <td>0.889802</td>\n",
       "      <td>0.989815</td>\n",
       "      <td>0.869502</td>\n",
       "      <td>...</td>\n",
       "      <td>0.876752</td>\n",
       "      <td>0.988952</td>\n",
       "      <td>0.888352</td>\n",
       "      <td>0.990506</td>\n",
       "      <td>0.885935</td>\n",
       "      <td>0.990506</td>\n",
       "      <td>3.669843</td>\n",
       "      <td>0.277386</td>\n",
       "      <td>0.007751</td>\n",
       "      <td>0.000592</td>\n",
       "    </tr>\n",
       "    <tr>\n",
       "      <th>2</th>\n",
       "      <td>69.098551</td>\n",
       "      <td>5.953151</td>\n",
       "      <td>0.882359</td>\n",
       "      <td>0.990368</td>\n",
       "      <td>300</td>\n",
       "      <td>{'n_estimators': 300}</td>\n",
       "      <td>2</td>\n",
       "      <td>0.890768</td>\n",
       "      <td>0.989988</td>\n",
       "      <td>0.870469</td>\n",
       "      <td>...</td>\n",
       "      <td>0.878202</td>\n",
       "      <td>0.989815</td>\n",
       "      <td>0.886902</td>\n",
       "      <td>0.990333</td>\n",
       "      <td>0.885452</td>\n",
       "      <td>0.991024</td>\n",
       "      <td>2.094380</td>\n",
       "      <td>0.403228</td>\n",
       "      <td>0.007205</td>\n",
       "      <td>0.000442</td>\n",
       "    </tr>\n",
       "  </tbody>\n",
       "</table>\n",
       "<p>3 rows × 21 columns</p>\n",
       "</div>"
      ],
      "text/plain": [
       "   mean_fit_time  mean_score_time  mean_test_score  mean_train_score  \\\n",
       "0      19.487460         2.144519         0.882649          0.989988   \n",
       "1      42.841052         3.625085         0.882069          0.990022   \n",
       "2      69.098551         5.953151         0.882359          0.990368   \n",
       "\n",
       "  param_n_estimators                 params  rank_test_score  \\\n",
       "0                100  {'n_estimators': 100}                1   \n",
       "1                200  {'n_estimators': 200}                3   \n",
       "2                300  {'n_estimators': 300}                2   \n",
       "\n",
       "   split0_test_score  split0_train_score  split1_test_score       ...         \\\n",
       "0           0.889802            0.989297           0.870469       ...          \n",
       "1           0.889802            0.989815           0.869502       ...          \n",
       "2           0.890768            0.989988           0.870469       ...          \n",
       "\n",
       "   split2_test_score  split2_train_score  split3_test_score  \\\n",
       "0           0.880135            0.989988           0.888352   \n",
       "1           0.876752            0.988952           0.888352   \n",
       "2           0.878202            0.989815           0.886902   \n",
       "\n",
       "   split3_train_score  split4_test_score  split4_train_score  std_fit_time  \\\n",
       "0            0.990506           0.884485            0.990333      0.625474   \n",
       "1            0.990506           0.885935            0.990506      3.669843   \n",
       "2            0.990333           0.885452            0.991024      2.094380   \n",
       "\n",
       "   std_score_time  std_test_score  std_train_score  \n",
       "0        0.080938        0.006953         0.000423  \n",
       "1        0.277386        0.007751         0.000592  \n",
       "2        0.403228        0.007205         0.000442  \n",
       "\n",
       "[3 rows x 21 columns]"
      ]
     },
     "execution_count": 55,
     "metadata": {},
     "output_type": "execute_result"
    }
   ],
   "source": [
    "pd.DataFrame(gs_bt.cv_results_)"
   ]
  },
  {
   "cell_type": "code",
   "execution_count": null,
   "metadata": {
    "collapsed": true
   },
   "outputs": [],
   "source": [
    "bt_test_score=pd.DataFrame(gs_bt.cv_results_)[pd.DataFrame(gs_bt.cv_results_)['rank_test_score']==1]['mean_test_score'][0]\n"
   ]
  },
  {
   "cell_type": "markdown",
   "metadata": {},
   "source": [
    "# Logistic Regression"
   ]
  },
  {
   "cell_type": "code",
   "execution_count": 26,
   "metadata": {
    "collapsed": true
   },
   "outputs": [],
   "source": [
    "params= {'C': np.linspace(10,3000,50),\n",
    "         'penalty': ['l1', 'l2'],\n",
    "         \n",
    "        }\n",
    "\n",
    "sss=StratifiedShuffleSplit(train_size=.7, test_size=.25, n_splits=5)"
   ]
  },
  {
   "cell_type": "code",
   "execution_count": 28,
   "metadata": {},
   "outputs": [
    {
     "data": {
      "text/plain": [
       "GridSearchCV(cv=StratifiedShuffleSplit(n_splits=5, random_state=None, test_size=0.25,\n",
       "            train_size=0.7),\n",
       "       error_score='raise',\n",
       "       estimator=LogisticRegression(C=1.0, class_weight=None, dual=False, fit_intercept=True,\n",
       "          intercept_scaling=1, max_iter=100, multi_class='ovr', n_jobs=1,\n",
       "          penalty='l2', random_state=None, solver='liblinear', tol=0.0001,\n",
       "          verbose=0, warm_start=False),\n",
       "       fit_params={}, iid=True, n_jobs=-1,\n",
       "       param_grid={'C': array([   10.     ,    71.02041,   132.04082,   193.06122,   254.08163,\n",
       "         315.10204,   376.12245,   437.14286,   498.16327,   559.18367,\n",
       "         620.20408,   681.22449,   742.2449 ,   803.26531,   864.28571,\n",
       "         925.30612,   986.32653,  1047.34694,  1108.36735,  1169.38...,\n",
       "        2755.91837,  2816.93878,  2877.95918,  2938.97959,  3000.     ]), 'penalty': ['l1', 'l2']},\n",
       "       pre_dispatch='2*n_jobs', refit=True, return_train_score=True,\n",
       "       scoring=None, verbose=0)"
      ]
     },
     "execution_count": 28,
     "metadata": {},
     "output_type": "execute_result"
    }
   ],
   "source": [
    "gs_lr = GridSearchCV(LogisticRegression(), param_grid=params, cv=sss, n_jobs=-1)\n",
    "\n",
    "gs_lr.fit(lsa, target)"
   ]
  },
  {
   "cell_type": "code",
   "execution_count": 314,
   "metadata": {},
   "outputs": [
    {
     "data": {
      "text/html": [
       "<div>\n",
       "<table border=\"1\" class=\"dataframe\">\n",
       "  <thead>\n",
       "    <tr style=\"text-align: right;\">\n",
       "      <th></th>\n",
       "      <th>mean_fit_time</th>\n",
       "      <th>mean_score_time</th>\n",
       "      <th>mean_test_score</th>\n",
       "      <th>mean_train_score</th>\n",
       "      <th>param_C</th>\n",
       "      <th>param_penalty</th>\n",
       "      <th>params</th>\n",
       "      <th>rank_test_score</th>\n",
       "      <th>split0_test_score</th>\n",
       "      <th>split0_train_score</th>\n",
       "      <th>...</th>\n",
       "      <th>split2_test_score</th>\n",
       "      <th>split2_train_score</th>\n",
       "      <th>split3_test_score</th>\n",
       "      <th>split3_train_score</th>\n",
       "      <th>split4_test_score</th>\n",
       "      <th>split4_train_score</th>\n",
       "      <th>std_fit_time</th>\n",
       "      <th>std_score_time</th>\n",
       "      <th>std_test_score</th>\n",
       "      <th>std_train_score</th>\n",
       "    </tr>\n",
       "  </thead>\n",
       "  <tbody>\n",
       "    <tr>\n",
       "      <th>9</th>\n",
       "      <td>5.019448</td>\n",
       "      <td>0.002808</td>\n",
       "      <td>0.903722</td>\n",
       "      <td>0.938719</td>\n",
       "      <td>254.082</td>\n",
       "      <td>l2</td>\n",
       "      <td>{'C': 254.081632653, 'penalty': 'l2'}</td>\n",
       "      <td>1</td>\n",
       "      <td>0.905268</td>\n",
       "      <td>0.939582</td>\n",
       "      <td>...</td>\n",
       "      <td>0.903818</td>\n",
       "      <td>0.938892</td>\n",
       "      <td>0.898018</td>\n",
       "      <td>0.936993</td>\n",
       "      <td>0.903818</td>\n",
       "      <td>0.939927</td>\n",
       "      <td>0.271957</td>\n",
       "      <td>0.000401</td>\n",
       "      <td>0.003183</td>\n",
       "      <td>0.001047</td>\n",
       "    </tr>\n",
       "  </tbody>\n",
       "</table>\n",
       "<p>1 rows × 22 columns</p>\n",
       "</div>"
      ],
      "text/plain": [
       "   mean_fit_time  mean_score_time  mean_test_score  mean_train_score  param_C  \\\n",
       "9       5.019448         0.002808         0.903722          0.938719  254.082   \n",
       "\n",
       "  param_penalty                                 params  rank_test_score  \\\n",
       "9            l2  {'C': 254.081632653, 'penalty': 'l2'}                1   \n",
       "\n",
       "   split0_test_score  split0_train_score       ...         split2_test_score  \\\n",
       "9           0.905268            0.939582       ...                  0.903818   \n",
       "\n",
       "   split2_train_score  split3_test_score  split3_train_score  \\\n",
       "9            0.938892           0.898018            0.936993   \n",
       "\n",
       "   split4_test_score  split4_train_score  std_fit_time  std_score_time  \\\n",
       "9           0.903818            0.939927      0.271957        0.000401   \n",
       "\n",
       "   std_test_score  std_train_score  \n",
       "9        0.003183         0.001047  \n",
       "\n",
       "[1 rows x 22 columns]"
      ]
     },
     "execution_count": 314,
     "metadata": {},
     "output_type": "execute_result"
    }
   ],
   "source": [
    "pd.DataFrame(gs_lr.cv_results_)[pd.DataFrame(gs_lr.cv_results_)['rank_test_score']==1]"
   ]
  },
  {
   "cell_type": "code",
   "execution_count": null,
   "metadata": {
    "collapsed": true
   },
   "outputs": [],
   "source": [
    "lr_test_score=pd.DataFrame(gs_lr.cv_results_)[pd.DataFrame(gs_lr.cv_results_)['rank_test_score']==1]['mean_test_score'][9]\n"
   ]
  },
  {
   "cell_type": "markdown",
   "metadata": {},
   "source": [
    "# KNN"
   ]
  },
  {
   "cell_type": "code",
   "execution_count": 37,
   "metadata": {
    "collapsed": true
   },
   "outputs": [],
   "source": [
    "params= { 'n_neighbors':[1,2,3,4,5,]}\n",
    "sss=StratifiedShuffleSplit(train_size=.7, test_size=.25, n_splits=5)"
   ]
  },
  {
   "cell_type": "code",
   "execution_count": 38,
   "metadata": {},
   "outputs": [
    {
     "data": {
      "text/plain": [
       "GridSearchCV(cv=StratifiedShuffleSplit(n_splits=5, random_state=None, test_size=0.25,\n",
       "            train_size=0.7),\n",
       "       error_score='raise',\n",
       "       estimator=KNeighborsClassifier(algorithm='auto', leaf_size=30, metric='minkowski',\n",
       "           metric_params=None, n_jobs=1, n_neighbors=5, p=2,\n",
       "           weights='uniform'),\n",
       "       fit_params={}, iid=True, n_jobs=-1,\n",
       "       param_grid={'n_neighbors': [1, 2, 3, 4, 5]},\n",
       "       pre_dispatch='2*n_jobs', refit=True, return_train_score=True,\n",
       "       scoring=None, verbose=0)"
      ]
     },
     "execution_count": 38,
     "metadata": {},
     "output_type": "execute_result"
    }
   ],
   "source": [
    "gs_knn= GridSearchCV(KNeighborsClassifier(), param_grid=params, cv=sss, n_jobs=-1)\n",
    "gs_knn.fit(lsa, target)"
   ]
  },
  {
   "cell_type": "code",
   "execution_count": 149,
   "metadata": {},
   "outputs": [
    {
     "data": {
      "text/plain": [
       "['gs_knn']"
      ]
     },
     "execution_count": 149,
     "metadata": {},
     "output_type": "execute_result"
    }
   ],
   "source": [
    "joblib.dump(gs_knn, 'gs_knn')"
   ]
  },
  {
   "cell_type": "code",
   "execution_count": 39,
   "metadata": {},
   "outputs": [
    {
     "data": {
      "text/html": [
       "<div>\n",
       "<table border=\"1\" class=\"dataframe\">\n",
       "  <thead>\n",
       "    <tr style=\"text-align: right;\">\n",
       "      <th></th>\n",
       "      <th>mean_fit_time</th>\n",
       "      <th>mean_score_time</th>\n",
       "      <th>mean_test_score</th>\n",
       "      <th>mean_train_score</th>\n",
       "      <th>param_n_neighbors</th>\n",
       "      <th>params</th>\n",
       "      <th>rank_test_score</th>\n",
       "      <th>split0_test_score</th>\n",
       "      <th>split0_train_score</th>\n",
       "      <th>split1_test_score</th>\n",
       "      <th>...</th>\n",
       "      <th>split2_test_score</th>\n",
       "      <th>split2_train_score</th>\n",
       "      <th>split3_test_score</th>\n",
       "      <th>split3_train_score</th>\n",
       "      <th>split4_test_score</th>\n",
       "      <th>split4_train_score</th>\n",
       "      <th>std_fit_time</th>\n",
       "      <th>std_score_time</th>\n",
       "      <th>std_test_score</th>\n",
       "      <th>std_train_score</th>\n",
       "    </tr>\n",
       "  </thead>\n",
       "  <tbody>\n",
       "    <tr>\n",
       "      <th>0</th>\n",
       "      <td>0.137221</td>\n",
       "      <td>5.416704</td>\n",
       "      <td>0.849299</td>\n",
       "      <td>0.993199</td>\n",
       "      <td>1</td>\n",
       "      <td>{'n_neighbors': 1}</td>\n",
       "      <td>4</td>\n",
       "      <td>0.846786</td>\n",
       "      <td>0.992577</td>\n",
       "      <td>0.859352</td>\n",
       "      <td>...</td>\n",
       "      <td>0.840986</td>\n",
       "      <td>0.994303</td>\n",
       "      <td>0.851136</td>\n",
       "      <td>0.994649</td>\n",
       "      <td>0.848236</td>\n",
       "      <td>0.991714</td>\n",
       "      <td>0.007918</td>\n",
       "      <td>0.072388</td>\n",
       "      <td>0.006017</td>\n",
       "      <td>0.001106</td>\n",
       "    </tr>\n",
       "    <tr>\n",
       "      <th>1</th>\n",
       "      <td>0.155413</td>\n",
       "      <td>6.618401</td>\n",
       "      <td>0.834026</td>\n",
       "      <td>0.926221</td>\n",
       "      <td>2</td>\n",
       "      <td>{'n_neighbors': 2}</td>\n",
       "      <td>5</td>\n",
       "      <td>0.834219</td>\n",
       "      <td>0.925772</td>\n",
       "      <td>0.834703</td>\n",
       "      <td>...</td>\n",
       "      <td>0.825036</td>\n",
       "      <td>0.926290</td>\n",
       "      <td>0.842919</td>\n",
       "      <td>0.924219</td>\n",
       "      <td>0.833253</td>\n",
       "      <td>0.927499</td>\n",
       "      <td>0.012687</td>\n",
       "      <td>0.434240</td>\n",
       "      <td>0.005674</td>\n",
       "      <td>0.001189</td>\n",
       "    </tr>\n",
       "    <tr>\n",
       "      <th>2</th>\n",
       "      <td>0.170153</td>\n",
       "      <td>7.825008</td>\n",
       "      <td>0.852779</td>\n",
       "      <td>0.920663</td>\n",
       "      <td>3</td>\n",
       "      <td>{'n_neighbors': 3}</td>\n",
       "      <td>3</td>\n",
       "      <td>0.851619</td>\n",
       "      <td>0.919040</td>\n",
       "      <td>0.853552</td>\n",
       "      <td>...</td>\n",
       "      <td>0.845819</td>\n",
       "      <td>0.920594</td>\n",
       "      <td>0.856452</td>\n",
       "      <td>0.919385</td>\n",
       "      <td>0.856452</td>\n",
       "      <td>0.924909</td>\n",
       "      <td>0.004355</td>\n",
       "      <td>0.133950</td>\n",
       "      <td>0.003934</td>\n",
       "      <td>0.002188</td>\n",
       "    </tr>\n",
       "    <tr>\n",
       "      <th>3</th>\n",
       "      <td>0.169953</td>\n",
       "      <td>8.022532</td>\n",
       "      <td>0.855196</td>\n",
       "      <td>0.911410</td>\n",
       "      <td>4</td>\n",
       "      <td>{'n_neighbors': 4}</td>\n",
       "      <td>2</td>\n",
       "      <td>0.854036</td>\n",
       "      <td>0.911790</td>\n",
       "      <td>0.858869</td>\n",
       "      <td>...</td>\n",
       "      <td>0.853069</td>\n",
       "      <td>0.910927</td>\n",
       "      <td>0.859352</td>\n",
       "      <td>0.909373</td>\n",
       "      <td>0.850652</td>\n",
       "      <td>0.912653</td>\n",
       "      <td>0.004552</td>\n",
       "      <td>0.078025</td>\n",
       "      <td>0.003385</td>\n",
       "      <td>0.001173</td>\n",
       "    </tr>\n",
       "    <tr>\n",
       "      <th>4</th>\n",
       "      <td>0.175869</td>\n",
       "      <td>8.140947</td>\n",
       "      <td>0.857129</td>\n",
       "      <td>0.902468</td>\n",
       "      <td>5</td>\n",
       "      <td>{'n_neighbors': 5}</td>\n",
       "      <td>1</td>\n",
       "      <td>0.854519</td>\n",
       "      <td>0.900397</td>\n",
       "      <td>0.858869</td>\n",
       "      <td>...</td>\n",
       "      <td>0.853069</td>\n",
       "      <td>0.904022</td>\n",
       "      <td>0.856936</td>\n",
       "      <td>0.903332</td>\n",
       "      <td>0.862252</td>\n",
       "      <td>0.903332</td>\n",
       "      <td>0.011826</td>\n",
       "      <td>0.134500</td>\n",
       "      <td>0.003244</td>\n",
       "      <td>0.001390</td>\n",
       "    </tr>\n",
       "  </tbody>\n",
       "</table>\n",
       "<p>5 rows × 21 columns</p>\n",
       "</div>"
      ],
      "text/plain": [
       "   mean_fit_time  mean_score_time  mean_test_score  mean_train_score  \\\n",
       "0       0.137221         5.416704         0.849299          0.993199   \n",
       "1       0.155413         6.618401         0.834026          0.926221   \n",
       "2       0.170153         7.825008         0.852779          0.920663   \n",
       "3       0.169953         8.022532         0.855196          0.911410   \n",
       "4       0.175869         8.140947         0.857129          0.902468   \n",
       "\n",
       "  param_n_neighbors              params  rank_test_score  split0_test_score  \\\n",
       "0                 1  {'n_neighbors': 1}                4           0.846786   \n",
       "1                 2  {'n_neighbors': 2}                5           0.834219   \n",
       "2                 3  {'n_neighbors': 3}                3           0.851619   \n",
       "3                 4  {'n_neighbors': 4}                2           0.854036   \n",
       "4                 5  {'n_neighbors': 5}                1           0.854519   \n",
       "\n",
       "   split0_train_score  split1_test_score       ...         split2_test_score  \\\n",
       "0            0.992577           0.859352       ...                  0.840986   \n",
       "1            0.925772           0.834703       ...                  0.825036   \n",
       "2            0.919040           0.853552       ...                  0.845819   \n",
       "3            0.911790           0.858869       ...                  0.853069   \n",
       "4            0.900397           0.858869       ...                  0.853069   \n",
       "\n",
       "   split2_train_score  split3_test_score  split3_train_score  \\\n",
       "0            0.994303           0.851136            0.994649   \n",
       "1            0.926290           0.842919            0.924219   \n",
       "2            0.920594           0.856452            0.919385   \n",
       "3            0.910927           0.859352            0.909373   \n",
       "4            0.904022           0.856936            0.903332   \n",
       "\n",
       "   split4_test_score  split4_train_score  std_fit_time  std_score_time  \\\n",
       "0           0.848236            0.991714      0.007918        0.072388   \n",
       "1           0.833253            0.927499      0.012687        0.434240   \n",
       "2           0.856452            0.924909      0.004355        0.133950   \n",
       "3           0.850652            0.912653      0.004552        0.078025   \n",
       "4           0.862252            0.903332      0.011826        0.134500   \n",
       "\n",
       "   std_test_score  std_train_score  \n",
       "0        0.006017         0.001106  \n",
       "1        0.005674         0.001189  \n",
       "2        0.003934         0.002188  \n",
       "3        0.003385         0.001173  \n",
       "4        0.003244         0.001390  \n",
       "\n",
       "[5 rows x 21 columns]"
      ]
     },
     "execution_count": 39,
     "metadata": {},
     "output_type": "execute_result"
    }
   ],
   "source": [
    "pd.DataFrame(gs_knn.cv_results_)"
   ]
  },
  {
   "cell_type": "code",
   "execution_count": null,
   "metadata": {
    "collapsed": true
   },
   "outputs": [],
   "source": [
    "knn_test_score=pd.DataFrame(gs_knn.cv_results_)[pd.DataFrame(gs_knn.cv_results_)['rank_test_score']==1]['mean_test_score'][4]\n",
    "\n"
   ]
  },
  {
   "cell_type": "markdown",
   "metadata": {},
   "source": [
    "# Summary of Model Scores"
   ]
  },
  {
   "cell_type": "code",
   "execution_count": 340,
   "metadata": {
    "collapsed": true
   },
   "outputs": [],
   "source": [
    "model_test_df=pd.DataFrame(columns=['Model', 'Test Score'], index=range(4))"
   ]
  },
  {
   "cell_type": "code",
   "execution_count": 341,
   "metadata": {
    "collapsed": true
   },
   "outputs": [],
   "source": [
    "models=['KNN', 'Random Forest', 'Bagging Trees', 'Logistic Regression']\n",
    "test_scores=[knn_test_score,rf_test_score , bt_test_score, lr_test_score ]"
   ]
  },
  {
   "cell_type": "code",
   "execution_count": 342,
   "metadata": {
    "collapsed": true
   },
   "outputs": [],
   "source": [
    "model_test_df['Model']=models\n",
    "model_test_df['Test Score']= test_scores"
   ]
  },
  {
   "cell_type": "code",
   "execution_count": 343,
   "metadata": {},
   "outputs": [
    {
     "data": {
      "text/html": [
       "<div>\n",
       "<table border=\"1\" class=\"dataframe\">\n",
       "  <thead>\n",
       "    <tr style=\"text-align: right;\">\n",
       "      <th></th>\n",
       "      <th>Model</th>\n",
       "      <th>Test Score</th>\n",
       "    </tr>\n",
       "  </thead>\n",
       "  <tbody>\n",
       "    <tr>\n",
       "      <th>0</th>\n",
       "      <td>KNN</td>\n",
       "      <td>0.857129</td>\n",
       "    </tr>\n",
       "    <tr>\n",
       "      <th>1</th>\n",
       "      <td>Random Forest</td>\n",
       "      <td>0.893765</td>\n",
       "    </tr>\n",
       "    <tr>\n",
       "      <th>2</th>\n",
       "      <td>Bagging Trees</td>\n",
       "      <td>0.882649</td>\n",
       "    </tr>\n",
       "    <tr>\n",
       "      <th>3</th>\n",
       "      <td>Logistic Regression</td>\n",
       "      <td>0.903722</td>\n",
       "    </tr>\n",
       "  </tbody>\n",
       "</table>\n",
       "</div>"
      ],
      "text/plain": [
       "                 Model  Test Score\n",
       "0                  KNN    0.857129\n",
       "1        Random Forest    0.893765\n",
       "2        Bagging Trees    0.882649\n",
       "3  Logistic Regression    0.903722"
      ]
     },
     "execution_count": 343,
     "metadata": {},
     "output_type": "execute_result"
    }
   ],
   "source": [
    "model_test_df"
   ]
  },
  {
   "cell_type": "markdown",
   "metadata": {},
   "source": [
    "# Logistic Regression on various SVD n_components"
   ]
  },
  {
   "cell_type": "code",
   "execution_count": 319,
   "metadata": {
    "collapsed": true
   },
   "outputs": [],
   "source": [
    "n_components= [15,25,40,125,400,900,1400]\n",
    "test_scores=[]\n",
    "for components in n_components:     \n",
    "    tfidf_vectorizer= TfidfVectorizer(min_df=1, stop_words='english')\n",
    "    document_term_matrix= tfidf_vectorizer.fit_transform(search_df['Content'])\n",
    "\n",
    "    SVD= TruncatedSVD(components)\n",
    "    lsa= SVD.fit_transform(document_term_matrix)\n",
    "\n",
    "    lr = GridSearchCV(LogisticRegression(), param_grid={'C':[250]}, cv=sss, n_jobs=-1)\n",
    "\n",
    "    lr.fit(lsa, target)\n",
    "    \n",
    "    test_scores.append(pd.DataFrame(lr.cv_results_)['mean_test_score'][0])\n",
    "\n",
    "\n"
   ]
  },
  {
   "cell_type": "code",
   "execution_count": 331,
   "metadata": {
    "collapsed": true
   },
   "outputs": [],
   "source": [
    "SVD_df=pd.DataFrame(columns=['n_components', 'test_scores'], index=range(len(n_components)))\n",
    "\n",
    "SVD_df['n_components']= n_components\n",
    "SVD_df['test_scores']= test_scores"
   ]
  },
  {
   "cell_type": "code",
   "execution_count": 332,
   "metadata": {},
   "outputs": [
    {
     "data": {
      "text/html": [
       "<div>\n",
       "<table border=\"1\" class=\"dataframe\">\n",
       "  <thead>\n",
       "    <tr style=\"text-align: right;\">\n",
       "      <th></th>\n",
       "      <th>n_components</th>\n",
       "      <th>test_scores</th>\n",
       "    </tr>\n",
       "  </thead>\n",
       "  <tbody>\n",
       "    <tr>\n",
       "      <th>0</th>\n",
       "      <td>15</td>\n",
       "      <td>0.845239</td>\n",
       "    </tr>\n",
       "    <tr>\n",
       "      <th>1</th>\n",
       "      <td>25</td>\n",
       "      <td>0.882165</td>\n",
       "    </tr>\n",
       "    <tr>\n",
       "      <th>2</th>\n",
       "      <td>40</td>\n",
       "      <td>0.886999</td>\n",
       "    </tr>\n",
       "    <tr>\n",
       "      <th>3</th>\n",
       "      <td>125</td>\n",
       "      <td>0.900628</td>\n",
       "    </tr>\n",
       "    <tr>\n",
       "      <th>4</th>\n",
       "      <td>400</td>\n",
       "      <td>0.907395</td>\n",
       "    </tr>\n",
       "    <tr>\n",
       "      <th>5</th>\n",
       "      <td>900</td>\n",
       "      <td>0.895892</td>\n",
       "    </tr>\n",
       "    <tr>\n",
       "      <th>6</th>\n",
       "      <td>1400</td>\n",
       "      <td>0.896568</td>\n",
       "    </tr>\n",
       "  </tbody>\n",
       "</table>\n",
       "</div>"
      ],
      "text/plain": [
       "   n_components  test_scores\n",
       "0            15     0.845239\n",
       "1            25     0.882165\n",
       "2            40     0.886999\n",
       "3           125     0.900628\n",
       "4           400     0.907395\n",
       "5           900     0.895892\n",
       "6          1400     0.896568"
      ]
     },
     "execution_count": 332,
     "metadata": {},
     "output_type": "execute_result"
    }
   ],
   "source": [
    "SVD_df"
   ]
  },
  {
   "cell_type": "markdown",
   "metadata": {},
   "source": [
    "## Explained Variance"
   ]
  },
  {
   "cell_type": "code",
   "execution_count": 189,
   "metadata": {},
   "outputs": [
    {
     "data": {
      "text/plain": [
       "<Container object of 1400 artists>"
      ]
     },
     "execution_count": 189,
     "metadata": {},
     "output_type": "execute_result"
    },
    {
     "data": {
      "image/png": "[encoded data removed]",
      "text/plain": [
       "<matplotlib.figure.Figure at 0x1e989375128>"
      ]
     },
     "metadata": {},
     "output_type": "display_data"
    }
   ],
   "source": [
    "tfidf_vectorizer_1400= TfidfVectorizer(min_df=1, stop_words='english')\n",
    "document_term_matrix_1400= tfidf_vectorizer_1400.fit_transform(search_df['Content'])\n",
    "\n",
    "SVD_1400= TruncatedSVD(1400)\n",
    "lsa_1400= SVD_1400.fit_transform(document_term_matrix)\n",
    "\n",
    "evr = SVD_1400.explained_variance_ratio_\n",
    "x = list(range(len(evr)))\n",
    "plt.plot(x, np.cumsum(evr))\n",
    "plt.bar(x, evr)"
   ]
  },
  {
   "cell_type": "markdown",
   "metadata": {},
   "source": [
    "# n-grams (1,2)"
   ]
  },
  {
   "cell_type": "code",
   "execution_count": 197,
   "metadata": {},
   "outputs": [
    {
     "data": {
      "text/plain": [
       "<Container object of 200 artists>"
      ]
     },
     "execution_count": 197,
     "metadata": {},
     "output_type": "execute_result"
    },
    {
     "data": {
      "image/png": "[encoded data removed]",
      "text/plain": [
       "<matplotlib.figure.Figure at 0x1e98ea27630>"
      ]
     },
     "metadata": {},
     "output_type": "display_data"
    }
   ],
   "source": [
    "tfidf_vectorizer_ngrams= TfidfVectorizer(min_df=1, stop_words='english', ngram_range=(1,2))\n",
    "document_term_matrix_ngrams= tfidf_vectorizer_ngrams.fit_transform(search_df['Content'])\n",
    "\n",
    "SVD_ngrams= TruncatedSVD(200)\n",
    "lsa_ngrams= SVD_ngrams.fit_transform(document_term_matrix)\n",
    "\n",
    "evr = SVD_ngrams.explained_variance_ratio_\n",
    "x = list(range(len(evr)))\n",
    "plt.plot(x, np.cumsum(evr))\n",
    "plt.bar(x, evr)"
   ]
  },
  {
   "cell_type": "code",
   "execution_count": 198,
   "metadata": {},
   "outputs": [
    {
     "data": {
      "text/plain": [
       "(8276, 3031277)"
      ]
     },
     "execution_count": 198,
     "metadata": {},
     "output_type": "execute_result"
    }
   ],
   "source": [
    "document_term_matrix_ngrams.shape"
   ]
  },
  {
   "cell_type": "code",
   "execution_count": 199,
   "metadata": {},
   "outputs": [
    {
     "data": {
      "text/html": [
       "<div>\n",
       "<table border=\"1\" class=\"dataframe\">\n",
       "  <thead>\n",
       "    <tr style=\"text-align: right;\">\n",
       "      <th></th>\n",
       "      <th>mean_fit_time</th>\n",
       "      <th>mean_score_time</th>\n",
       "      <th>mean_test_score</th>\n",
       "      <th>mean_train_score</th>\n",
       "      <th>param_C</th>\n",
       "      <th>params</th>\n",
       "      <th>rank_test_score</th>\n",
       "      <th>split0_test_score</th>\n",
       "      <th>split0_train_score</th>\n",
       "      <th>split1_test_score</th>\n",
       "      <th>...</th>\n",
       "      <th>split2_test_score</th>\n",
       "      <th>split2_train_score</th>\n",
       "      <th>split3_test_score</th>\n",
       "      <th>split3_train_score</th>\n",
       "      <th>split4_test_score</th>\n",
       "      <th>split4_train_score</th>\n",
       "      <th>std_fit_time</th>\n",
       "      <th>std_score_time</th>\n",
       "      <th>std_test_score</th>\n",
       "      <th>std_train_score</th>\n",
       "    </tr>\n",
       "  </thead>\n",
       "  <tbody>\n",
       "    <tr>\n",
       "      <th>0</th>\n",
       "      <td>5.640865</td>\n",
       "      <td>0.037098</td>\n",
       "      <td>0.904592</td>\n",
       "      <td>0.935716</td>\n",
       "      <td>250</td>\n",
       "      <td>{'C': 250}</td>\n",
       "      <td>1</td>\n",
       "      <td>0.908168</td>\n",
       "      <td>0.93285</td>\n",
       "      <td>0.898985</td>\n",
       "      <td>...</td>\n",
       "      <td>0.908652</td>\n",
       "      <td>0.934749</td>\n",
       "      <td>0.904785</td>\n",
       "      <td>0.938201</td>\n",
       "      <td>0.902368</td>\n",
       "      <td>0.937338</td>\n",
       "      <td>1.172187</td>\n",
       "      <td>0.02098</td>\n",
       "      <td>0.003625</td>\n",
       "      <td>0.001899</td>\n",
       "    </tr>\n",
       "  </tbody>\n",
       "</table>\n",
       "<p>1 rows × 21 columns</p>\n",
       "</div>"
      ],
      "text/plain": [
       "   mean_fit_time  mean_score_time  mean_test_score  mean_train_score param_C  \\\n",
       "0       5.640865         0.037098         0.904592          0.935716     250   \n",
       "\n",
       "       params  rank_test_score  split0_test_score  split0_train_score  \\\n",
       "0  {'C': 250}                1           0.908168             0.93285   \n",
       "\n",
       "   split1_test_score       ...         split2_test_score  split2_train_score  \\\n",
       "0           0.898985       ...                  0.908652            0.934749   \n",
       "\n",
       "   split3_test_score  split3_train_score  split4_test_score  \\\n",
       "0           0.904785            0.938201           0.902368   \n",
       "\n",
       "   split4_train_score  std_fit_time  std_score_time  std_test_score  \\\n",
       "0            0.937338      1.172187         0.02098        0.003625   \n",
       "\n",
       "   std_train_score  \n",
       "0         0.001899  \n",
       "\n",
       "[1 rows x 21 columns]"
      ]
     },
     "execution_count": 199,
     "metadata": {},
     "output_type": "execute_result"
    }
   ],
   "source": [
    "gs_lr_ngrams = GridSearchCV(LogisticRegression(), param_grid={'C':[250]}, cv=sss, n_jobs=-1)\n",
    "\n",
    "gs_lr_ngrams.fit(lsa_ngrams, target)\n",
    "\n",
    "pd.DataFrame(gs_lr_ngrams.cv_results_)"
   ]
  },
  {
   "cell_type": "markdown",
   "metadata": {},
   "source": [
    "# n-grams (1,3)"
   ]
  },
  {
   "cell_type": "code",
   "execution_count": 200,
   "metadata": {},
   "outputs": [
    {
     "data": {
      "text/plain": [
       "<Container object of 200 artists>"
      ]
     },
     "execution_count": 200,
     "metadata": {},
     "output_type": "execute_result"
    },
    {
     "data": {
      "image/png": "[encoded data removed]",
      "text/plain": [
       "<matplotlib.figure.Figure at 0x1e98ea766a0>"
      ]
     },
     "metadata": {},
     "output_type": "display_data"
    }
   ],
   "source": [
    "tfidf_vectorizer_ngrams3= TfidfVectorizer(min_df=1, stop_words='english', ngram_range=(1,3))\n",
    "document_term_matrix_ngrams3= tfidf_vectorizer_ngrams3.fit_transform(search_df['Content'])\n",
    "\n",
    "SVD_ngrams3= TruncatedSVD(200)\n",
    "lsa_ngrams3= SVD_ngrams3.fit_transform(document_term_matrix)\n",
    "\n",
    "evr = SVD_ngrams3.explained_variance_ratio_\n",
    "x = list(range(len(evr)))\n",
    "plt.plot(x, np.cumsum(evr))\n",
    "plt.bar(x, evr)"
   ]
  },
  {
   "cell_type": "code",
   "execution_count": 202,
   "metadata": {},
   "outputs": [
    {
     "data": {
      "text/plain": [
       "(8276, 7264562)"
      ]
     },
     "execution_count": 202,
     "metadata": {},
     "output_type": "execute_result"
    }
   ],
   "source": [
    "document_term_matrix_ngrams3.shape"
   ]
  },
  {
   "cell_type": "code",
   "execution_count": 201,
   "metadata": {},
   "outputs": [
    {
     "data": {
      "text/html": [
       "<div>\n",
       "<table border=\"1\" class=\"dataframe\">\n",
       "  <thead>\n",
       "    <tr style=\"text-align: right;\">\n",
       "      <th></th>\n",
       "      <th>mean_fit_time</th>\n",
       "      <th>mean_score_time</th>\n",
       "      <th>mean_test_score</th>\n",
       "      <th>mean_train_score</th>\n",
       "      <th>param_C</th>\n",
       "      <th>params</th>\n",
       "      <th>rank_test_score</th>\n",
       "      <th>split0_test_score</th>\n",
       "      <th>split0_train_score</th>\n",
       "      <th>split1_test_score</th>\n",
       "      <th>...</th>\n",
       "      <th>split2_test_score</th>\n",
       "      <th>split2_train_score</th>\n",
       "      <th>split3_test_score</th>\n",
       "      <th>split3_train_score</th>\n",
       "      <th>split4_test_score</th>\n",
       "      <th>split4_train_score</th>\n",
       "      <th>std_fit_time</th>\n",
       "      <th>std_score_time</th>\n",
       "      <th>std_test_score</th>\n",
       "      <th>std_train_score</th>\n",
       "    </tr>\n",
       "  </thead>\n",
       "  <tbody>\n",
       "    <tr>\n",
       "      <th>0</th>\n",
       "      <td>5.486207</td>\n",
       "      <td>0.028969</td>\n",
       "      <td>0.908458</td>\n",
       "      <td>0.934714</td>\n",
       "      <td>250</td>\n",
       "      <td>{'C': 250}</td>\n",
       "      <td>1</td>\n",
       "      <td>0.908168</td>\n",
       "      <td>0.93682</td>\n",
       "      <td>0.906718</td>\n",
       "      <td>...</td>\n",
       "      <td>0.922668</td>\n",
       "      <td>0.927844</td>\n",
       "      <td>0.896568</td>\n",
       "      <td>0.937166</td>\n",
       "      <td>0.908168</td>\n",
       "      <td>0.936302</td>\n",
       "      <td>1.204863</td>\n",
       "      <td>0.026298</td>\n",
       "      <td>0.008324</td>\n",
       "      <td>0.003484</td>\n",
       "    </tr>\n",
       "  </tbody>\n",
       "</table>\n",
       "<p>1 rows × 21 columns</p>\n",
       "</div>"
      ],
      "text/plain": [
       "   mean_fit_time  mean_score_time  mean_test_score  mean_train_score param_C  \\\n",
       "0       5.486207         0.028969         0.908458          0.934714     250   \n",
       "\n",
       "       params  rank_test_score  split0_test_score  split0_train_score  \\\n",
       "0  {'C': 250}                1           0.908168             0.93682   \n",
       "\n",
       "   split1_test_score       ...         split2_test_score  split2_train_score  \\\n",
       "0           0.906718       ...                  0.922668            0.927844   \n",
       "\n",
       "   split3_test_score  split3_train_score  split4_test_score  \\\n",
       "0           0.896568            0.937166           0.908168   \n",
       "\n",
       "   split4_train_score  std_fit_time  std_score_time  std_test_score  \\\n",
       "0            0.936302      1.204863        0.026298        0.008324   \n",
       "\n",
       "   std_train_score  \n",
       "0         0.003484  \n",
       "\n",
       "[1 rows x 21 columns]"
      ]
     },
     "execution_count": 201,
     "metadata": {},
     "output_type": "execute_result"
    }
   ],
   "source": [
    "gs_lr_ngrams3 = GridSearchCV(LogisticRegression(), param_grid={'C':[250]}, cv=sss, n_jobs=-1)\n",
    "\n",
    "gs_lr_ngrams3.fit(lsa_ngrams3, target)\n",
    "\n",
    "pd.DataFrame(gs_lr_ngrams3.cv_results_)"
   ]
  },
  {
   "cell_type": "code",
   "execution_count": 255,
   "metadata": {
    "collapsed": true
   },
   "outputs": [],
   "source": [
    "feature_names= np.array(tfidf_vectorizer_40.get_feature_names())\n"
   ]
  },
  {
   "cell_type": "markdown",
   "metadata": {},
   "source": [
    "# TFIDF no SVD"
   ]
  },
  {
   "cell_type": "markdown",
   "metadata": {},
   "source": [
    "# n_gram = (1, 1)"
   ]
  },
  {
   "cell_type": "code",
   "execution_count": 247,
   "metadata": {},
   "outputs": [
    {
     "data": {
      "text/plain": [
       "GridSearchCV(cv=StratifiedShuffleSplit(n_splits=5, random_state=None, test_size=0.25,\n",
       "            train_size=0.7),\n",
       "       error_score='raise',\n",
       "       estimator=LogisticRegression(C=1.0, class_weight=None, dual=False, fit_intercept=True,\n",
       "          intercept_scaling=1, max_iter=100, multi_class='ovr', n_jobs=1,\n",
       "          penalty='l2', random_state=None, solver='liblinear', tol=0.0001,\n",
       "          verbose=0, warm_start=False),\n",
       "       fit_params={}, iid=True, n_jobs=-1,\n",
       "       param_grid={'C': [250, 2000, 20000, 1]}, pre_dispatch='2*n_jobs',\n",
       "       refit=True, return_train_score=True, scoring=None, verbose=0)"
      ]
     },
     "execution_count": 247,
     "metadata": {},
     "output_type": "execute_result"
    }
   ],
   "source": [
    "gs_lr_all=GridSearchCV(LogisticRegression(), cv=sss, n_jobs=-1, param_grid={'C':[200000]})\n",
    "gs_lr_all.fit(document_term_matrix_40, target)"
   ]
  },
  {
   "cell_type": "code",
   "execution_count": 248,
   "metadata": {
    "scrolled": true
   },
   "outputs": [
    {
     "data": {
      "text/html": [
       "<div>\n",
       "<table border=\"1\" class=\"dataframe\">\n",
       "  <thead>\n",
       "    <tr style=\"text-align: right;\">\n",
       "      <th></th>\n",
       "      <th>mean_fit_time</th>\n",
       "      <th>mean_score_time</th>\n",
       "      <th>mean_test_score</th>\n",
       "      <th>mean_train_score</th>\n",
       "      <th>param_C</th>\n",
       "      <th>params</th>\n",
       "      <th>rank_test_score</th>\n",
       "      <th>split0_test_score</th>\n",
       "      <th>split0_train_score</th>\n",
       "      <th>split1_test_score</th>\n",
       "      <th>...</th>\n",
       "      <th>split2_test_score</th>\n",
       "      <th>split2_train_score</th>\n",
       "      <th>split3_test_score</th>\n",
       "      <th>split3_train_score</th>\n",
       "      <th>split4_test_score</th>\n",
       "      <th>split4_train_score</th>\n",
       "      <th>std_fit_time</th>\n",
       "      <th>std_score_time</th>\n",
       "      <th>std_test_score</th>\n",
       "      <th>std_train_score</th>\n",
       "    </tr>\n",
       "  </thead>\n",
       "  <tbody>\n",
       "    <tr>\n",
       "      <th>0</th>\n",
       "      <td>24.560206</td>\n",
       "      <td>0.040810</td>\n",
       "      <td>0.900242</td>\n",
       "      <td>0.992888</td>\n",
       "      <td>250</td>\n",
       "      <td>{'C': 250}</td>\n",
       "      <td>3</td>\n",
       "      <td>0.906718</td>\n",
       "      <td>0.993440</td>\n",
       "      <td>0.900435</td>\n",
       "      <td>...</td>\n",
       "      <td>0.899468</td>\n",
       "      <td>0.993268</td>\n",
       "      <td>0.887869</td>\n",
       "      <td>0.993958</td>\n",
       "      <td>0.906718</td>\n",
       "      <td>0.992232</td>\n",
       "      <td>0.784998</td>\n",
       "      <td>0.002428</td>\n",
       "      <td>0.006894</td>\n",
       "      <td>0.000876</td>\n",
       "    </tr>\n",
       "    <tr>\n",
       "      <th>1</th>\n",
       "      <td>29.298816</td>\n",
       "      <td>0.038603</td>\n",
       "      <td>0.901692</td>\n",
       "      <td>0.992888</td>\n",
       "      <td>2000</td>\n",
       "      <td>{'C': 2000}</td>\n",
       "      <td>2</td>\n",
       "      <td>0.908652</td>\n",
       "      <td>0.993440</td>\n",
       "      <td>0.900918</td>\n",
       "      <td>...</td>\n",
       "      <td>0.900918</td>\n",
       "      <td>0.993268</td>\n",
       "      <td>0.889319</td>\n",
       "      <td>0.993958</td>\n",
       "      <td>0.908652</td>\n",
       "      <td>0.992232</td>\n",
       "      <td>1.588633</td>\n",
       "      <td>0.001052</td>\n",
       "      <td>0.007088</td>\n",
       "      <td>0.000876</td>\n",
       "    </tr>\n",
       "    <tr>\n",
       "      <th>2</th>\n",
       "      <td>35.870797</td>\n",
       "      <td>0.039405</td>\n",
       "      <td>0.903142</td>\n",
       "      <td>0.992888</td>\n",
       "      <td>20000</td>\n",
       "      <td>{'C': 20000}</td>\n",
       "      <td>1</td>\n",
       "      <td>0.911068</td>\n",
       "      <td>0.993440</td>\n",
       "      <td>0.902368</td>\n",
       "      <td>...</td>\n",
       "      <td>0.901885</td>\n",
       "      <td>0.993268</td>\n",
       "      <td>0.892218</td>\n",
       "      <td>0.993958</td>\n",
       "      <td>0.908168</td>\n",
       "      <td>0.992232</td>\n",
       "      <td>1.577795</td>\n",
       "      <td>0.003968</td>\n",
       "      <td>0.006474</td>\n",
       "      <td>0.000876</td>\n",
       "    </tr>\n",
       "    <tr>\n",
       "      <th>3</th>\n",
       "      <td>10.565504</td>\n",
       "      <td>0.038202</td>\n",
       "      <td>0.854809</td>\n",
       "      <td>0.941378</td>\n",
       "      <td>1</td>\n",
       "      <td>{'C': 1}</td>\n",
       "      <td>4</td>\n",
       "      <td>0.856936</td>\n",
       "      <td>0.941654</td>\n",
       "      <td>0.855002</td>\n",
       "      <td>...</td>\n",
       "      <td>0.852586</td>\n",
       "      <td>0.941999</td>\n",
       "      <td>0.840986</td>\n",
       "      <td>0.941826</td>\n",
       "      <td>0.868536</td>\n",
       "      <td>0.940618</td>\n",
       "      <td>1.206028</td>\n",
       "      <td>0.021803</td>\n",
       "      <td>0.008820</td>\n",
       "      <td>0.000563</td>\n",
       "    </tr>\n",
       "  </tbody>\n",
       "</table>\n",
       "<p>4 rows × 21 columns</p>\n",
       "</div>"
      ],
      "text/plain": [
       "   mean_fit_time  mean_score_time  mean_test_score  mean_train_score param_C  \\\n",
       "0      24.560206         0.040810         0.900242          0.992888     250   \n",
       "1      29.298816         0.038603         0.901692          0.992888    2000   \n",
       "2      35.870797         0.039405         0.903142          0.992888   20000   \n",
       "3      10.565504         0.038202         0.854809          0.941378       1   \n",
       "\n",
       "         params  rank_test_score  split0_test_score  split0_train_score  \\\n",
       "0    {'C': 250}                3           0.906718            0.993440   \n",
       "1   {'C': 2000}                2           0.908652            0.993440   \n",
       "2  {'C': 20000}                1           0.911068            0.993440   \n",
       "3      {'C': 1}                4           0.856936            0.941654   \n",
       "\n",
       "   split1_test_score       ...         split2_test_score  split2_train_score  \\\n",
       "0           0.900435       ...                  0.899468            0.993268   \n",
       "1           0.900918       ...                  0.900918            0.993268   \n",
       "2           0.902368       ...                  0.901885            0.993268   \n",
       "3           0.855002       ...                  0.852586            0.941999   \n",
       "\n",
       "   split3_test_score  split3_train_score  split4_test_score  \\\n",
       "0           0.887869            0.993958           0.906718   \n",
       "1           0.889319            0.993958           0.908652   \n",
       "2           0.892218            0.993958           0.908168   \n",
       "3           0.840986            0.941826           0.868536   \n",
       "\n",
       "   split4_train_score  std_fit_time  std_score_time  std_test_score  \\\n",
       "0            0.992232      0.784998        0.002428        0.006894   \n",
       "1            0.992232      1.588633        0.001052        0.007088   \n",
       "2            0.992232      1.577795        0.003968        0.006474   \n",
       "3            0.940618      1.206028        0.021803        0.008820   \n",
       "\n",
       "   std_train_score  \n",
       "0         0.000876  \n",
       "1         0.000876  \n",
       "2         0.000876  \n",
       "3         0.000563  \n",
       "\n",
       "[4 rows x 21 columns]"
      ]
     },
     "execution_count": 248,
     "metadata": {},
     "output_type": "execute_result"
    }
   ],
   "source": [
    "pd.DataFrame(gs_lr_all.cv_results_)"
   ]
  },
  {
   "cell_type": "markdown",
   "metadata": {},
   "source": [
    "## n-gram (1, 2)"
   ]
  },
  {
   "cell_type": "code",
   "execution_count": 281,
   "metadata": {
    "collapsed": true
   },
   "outputs": [],
   "source": [
    "tfidf_vectorizer_ngram= TfidfVectorizer(min_df=1, stop_words='english', ngram_range=(1,2))\n",
    "document_term_matrix_ngram= tfidf_vectorizer_ngram.fit_transform(search_df['Content'])\n",
    "\n"
   ]
  },
  {
   "cell_type": "code",
   "execution_count": 282,
   "metadata": {
    "scrolled": true
   },
   "outputs": [
    {
     "data": {
      "text/plain": [
       "(8276, 3031277)"
      ]
     },
     "execution_count": 282,
     "metadata": {},
     "output_type": "execute_result"
    }
   ],
   "source": [
    "document_term_matrix_ngram.shape"
   ]
  },
  {
   "cell_type": "code",
   "execution_count": 285,
   "metadata": {
    "scrolled": true
   },
   "outputs": [
    {
     "data": {
      "text/plain": [
       "GridSearchCV(cv=StratifiedShuffleSplit(n_splits=5, random_state=None, test_size=0.25,\n",
       "            train_size=0.7),\n",
       "       error_score='raise',\n",
       "       estimator=LogisticRegression(C=1.0, class_weight=None, dual=False, fit_intercept=True,\n",
       "          intercept_scaling=1, max_iter=100, multi_class='ovr', n_jobs=1,\n",
       "          penalty='l2', random_state=None, solver='liblinear', tol=0.0001,\n",
       "          verbose=0, warm_start=False),\n",
       "       fit_params={}, iid=True, n_jobs=-1, param_grid={'C': [200000]},\n",
       "       pre_dispatch='2*n_jobs', refit=True, return_train_score=True,\n",
       "       scoring=None, verbose=0)"
      ]
     },
     "execution_count": 285,
     "metadata": {},
     "output_type": "execute_result"
    }
   ],
   "source": [
    "gs_lr_all_ngram=GridSearchCV(LogisticRegression(), cv=sss, n_jobs=-1, param_grid={'C':[200000]})\n",
    "gs_lr_all_ngram.fit(document_term_matrix_ngram, target)"
   ]
  },
  {
   "cell_type": "code",
   "execution_count": 274,
   "metadata": {
    "scrolled": false
   },
   "outputs": [
    {
     "data": {
      "text/plain": [
       "technology               2151\n",
       "machine learning         1256\n",
       "linear algebra           1077\n",
       "sleep                     990\n",
       "memory                    763\n",
       "business intelligence     759\n",
       "emotions                  649\n",
       "diets                     631\n",
       "Name: Category, dtype: int64"
      ]
     },
     "execution_count": 274,
     "metadata": {},
     "output_type": "execute_result"
    }
   ],
   "source": [
    "search_df['Category'].value_counts()"
   ]
  },
  {
   "cell_type": "code",
   "execution_count": 275,
   "metadata": {
    "scrolled": true
   },
   "outputs": [
    {
     "data": {
      "text/plain": [
       "7    2151\n",
       "4    1256\n",
       "3    1077\n",
       "6     990\n",
       "5     763\n",
       "0     759\n",
       "2     649\n",
       "1     631\n",
       "dtype: int64"
      ]
     },
     "execution_count": 275,
     "metadata": {},
     "output_type": "execute_result"
    }
   ],
   "source": [
    "pd.Series(target).value_counts()"
   ]
  },
  {
   "cell_type": "markdown",
   "metadata": {},
   "source": [
    "# Investigating Model Coefficients"
   ]
  },
  {
   "cell_type": "markdown",
   "metadata": {},
   "source": [
    "## Category: Technology"
   ]
  },
  {
   "cell_type": "code",
   "execution_count": 293,
   "metadata": {
    "scrolled": true
   },
   "outputs": [
    {
     "data": {
      "image/png": "[encoded data removed]",
      "text/plain": [
       "<matplotlib.figure.Figure at 0x1eaa28bc128>"
      ]
     },
     "metadata": {},
     "output_type": "display_data"
    }
   ],
   "source": [
    "mglearn.tools.visualize_coefficients(gs_lr_all.best_estimator_.coef_[7], feature_names, n_top_features=20)"
   ]
  },
  {
   "cell_type": "markdown",
   "metadata": {},
   "source": [
    "## Category: Machine Learning"
   ]
  },
  {
   "cell_type": "code",
   "execution_count": 333,
   "metadata": {},
   "outputs": [
    {
     "data": {
      "image/png": "[encoded data removed]",
      "text/plain": [
       "<matplotlib.figure.Figure at 0x1ea4bbb5320>"
      ]
     },
     "metadata": {},
     "output_type": "display_data"
    }
   ],
   "source": [
    "mglearn.tools.visualize_coefficients(gs_lr_all.best_estimator_.coef_[4], feature_names, n_top_features=20)"
   ]
  },
  {
   "cell_type": "markdown",
   "metadata": {},
   "source": [
    "## Category: Linear Algebra"
   ]
  },
  {
   "cell_type": "code",
   "execution_count": 334,
   "metadata": {},
   "outputs": [
    {
     "data": {
      "image/png": "[encoded data removed]",
      "text/plain": [
       "<matplotlib.figure.Figure at 0x1e9e8798ba8>"
      ]
     },
     "metadata": {},
     "output_type": "display_data"
    }
   ],
   "source": [
    "mglearn.tools.visualize_coefficients(gs_lr_all.best_estimator_.coef_[3], feature_names, n_top_features=20)"
   ]
  },
  {
   "cell_type": "markdown",
   "metadata": {},
   "source": [
    "## Category: Sleep"
   ]
  },
  {
   "cell_type": "code",
   "execution_count": 335,
   "metadata": {},
   "outputs": [
    {
     "data": {
      "image/png": "[encoded data removed]",
      "text/plain": [
       "<matplotlib.figure.Figure at 0x1ea3a257080>"
      ]
     },
     "metadata": {},
     "output_type": "display_data"
    }
   ],
   "source": [
    "mglearn.tools.visualize_coefficients(gs_lr_all.best_estimator_.coef_[6], feature_names, n_top_features=20)"
   ]
  },
  {
   "cell_type": "markdown",
   "metadata": {},
   "source": [
    "## Category: Memory"
   ]
  },
  {
   "cell_type": "code",
   "execution_count": 336,
   "metadata": {},
   "outputs": [
    {
     "data": {
      "image/png": "[encoded data removed]",
      "text/plain": [
       "<matplotlib.figure.Figure at 0x1ea92ea5f60>"
      ]
     },
     "metadata": {},
     "output_type": "display_data"
    }
   ],
   "source": [
    "mglearn.tools.visualize_coefficients(gs_lr_all.best_estimator_.coef_[5], feature_names, n_top_features=20)"
   ]
  },
  {
   "cell_type": "markdown",
   "metadata": {},
   "source": [
    "## Category: Business Intelligence"
   ]
  },
  {
   "cell_type": "code",
   "execution_count": 337,
   "metadata": {},
   "outputs": [
    {
     "data": {
      "image/png": "[encoded data removed]",
      "text/plain": [
       "<matplotlib.figure.Figure at 0x1e9e2fdf7b8>"
      ]
     },
     "metadata": {},
     "output_type": "display_data"
    }
   ],
   "source": [
    "mglearn.tools.visualize_coefficients(gs_lr_all.best_estimator_.coef_[0], feature_names, n_top_features=20)"
   ]
  },
  {
   "cell_type": "markdown",
   "metadata": {},
   "source": [
    "## Category: Emotions"
   ]
  },
  {
   "cell_type": "code",
   "execution_count": 338,
   "metadata": {},
   "outputs": [
    {
     "data": {
      "image/png": "[encoded data removed]",
      "text/plain": [
       "<matplotlib.figure.Figure at 0x1ea957f08d0>"
      ]
     },
     "metadata": {},
     "output_type": "display_data"
    }
   ],
   "source": [
    "mglearn.tools.visualize_coefficients(gs_lr_all.best_estimator_.coef_[2], feature_names, n_top_features=20)"
   ]
  },
  {
   "cell_type": "markdown",
   "metadata": {},
   "source": [
    "## Category: Diets"
   ]
  },
  {
   "cell_type": "code",
   "execution_count": 339,
   "metadata": {},
   "outputs": [
    {
     "data": {
      "image/png": "[encoded data removed]",
      "text/plain": [
       "<matplotlib.figure.Figure at 0x1e9e569ec18>"
      ]
     },
     "metadata": {},
     "output_type": "display_data"
    }
   ],
   "source": [
    "mglearn.tools.visualize_coefficients(gs_lr_all.best_estimator_.coef_[1], feature_names, n_top_features=20)"
   ]
  }
 ],
 "metadata": {
  "kernelspec": {
   "display_name": "Python 3",
   "language": "python",
   "name": "python3"
  },
  "language_info": {
   "codemirror_mode": {
    "name": "ipython",
    "version": 3
   },
   "file_extension": ".py",
   "mimetype": "text/x-python",
   "name": "python",
   "nbconvert_exporter": "python",
   "pygments_lexer": "ipython3",
   "version": "3.6.0"
  }
 },
 "nbformat": 4,
 "nbformat_minor": 2
}
